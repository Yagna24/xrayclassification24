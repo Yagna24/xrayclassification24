{
  "nbformat": 4,
  "nbformat_minor": 0,
  "metadata": {
    "colab": {
      "name": "mini-project-transfer.ipynb",
      "provenance": [],
      "collapsed_sections": []
    },
    "kernelspec": {
      "name": "python3",
      "display_name": "Python 3"
    },
    "language_info": {
      "name": "python"
    },
    "accelerator": "GPU"
  },
  "cells": [
    {
      "cell_type": "code",
      "metadata": {
        "id": "qZ6uaclv2dlU"
      },
      "source": [
        "from keras.layers import Flatten,Dense,Input,Lambda\n",
        "from keras.preprocessing import image\n",
        "from keras.preprocessing.image import ImageDataGenerator \n",
        "import numpy as np \n",
        "import matplotlib.pyplot as plt\n",
        "from keras.models import Sequential\n",
        "from keras.models import Model\n",
        "from keras.applications.vgg16 import VGG16\n",
        "from keras.applications.vgg16 import preprocess_input \n",
        "import glob\n",
        "from keras.callbacks import ModelCheckpoint,EarlyStopping,ReduceLROnPlateau"
      ],
      "execution_count": null,
      "outputs": []
    },
    {
      "cell_type": "code",
      "metadata": {
        "id": "jQ0v6DX03s8f"
      },
      "source": [
        "IMAGE_SIZE = (224,224,3)"
      ],
      "execution_count": null,
      "outputs": []
    },
    {
      "cell_type": "code",
      "metadata": {
        "id": "uSGrHS3m4Wc_",
        "colab": {
          "base_uri": "https://localhost:8080/"
        },
        "outputId": "59ab073d-9e85-42ae-a8bd-563d1bd2c500"
      },
      "source": [
        "from google.colab import drive \n",
        "drive.mount('gdrive')"
      ],
      "execution_count": 1,
      "outputs": [
        {
          "output_type": "stream",
          "text": [
            "Drive already mounted at gdrive; to attempt to forcibly remount, call drive.mount(\"gdrive\", force_remount=True).\n"
          ],
          "name": "stdout"
        }
      ]
    },
    {
      "cell_type": "code",
      "metadata": {
        "id": "597mtiO84Ryy"
      },
      "source": [
        "train_path = '/content/gdrive/MyDrive/chest_xray/train/'\n",
        "test_path = '/content/gdrive/MyDrive/chest_xray/test/'"
      ],
      "execution_count": null,
      "outputs": []
    },
    {
      "cell_type": "code",
      "metadata": {
        "id": "gESW3iCQYY_T"
      },
      "source": [
        "# add preprocessing layer to the front of VGG\n",
        "vgg = VGG16(input_shape=IMAGE_SIZE, weights='imagenet', include_top=False)\n",
        "\n",
        "# don't train existing weights\n",
        "for layer in vgg.layers:\n",
        "  layer.trainable = False\n",
        "  \n",
        "\n"
      ],
      "execution_count": null,
      "outputs": []
    },
    {
      "cell_type": "code",
      "metadata": {
        "id": "QmmRhgqviodf"
      },
      "source": [
        "  \n",
        "  # useful for getting number of classes\n",
        "#folders = glob('/content/gdrive/MyDrive/chest_xray/train/*')\n",
        "  \n",
        "\n",
        "# our layers - you can add more if you want\n",
        "x = Flatten()(vgg.output)\n",
        "# x = Dense(1000, activation='relu')(x)\n",
        "prediction = Dense(2, activation='softmax')(x)\n",
        "\n"
      ],
      "execution_count": null,
      "outputs": []
    },
    {
      "cell_type": "code",
      "metadata": {
        "id": "wcPeGMI2iulD"
      },
      "source": [
        "# create a model object\n",
        "model = Model(inputs=vgg.input, outputs=prediction)\n",
        "\n",
        "# view the structure of the model\n",
        "model.summary()\n",
        "\n"
      ],
      "execution_count": null,
      "outputs": []
    },
    {
      "cell_type": "code",
      "metadata": {
        "id": "HGRDboIs2bbh"
      },
      "source": [
        "# tell the model what cost and optimization method to use\n",
        "model.compile(\n",
        "  loss='categorical_crossentropy',\n",
        "  optimizer='adam',\n",
        "  metrics=['accuracy']\n",
        ")"
      ],
      "execution_count": null,
      "outputs": []
    },
    {
      "cell_type": "code",
      "metadata": {
        "id": "FhhatNztix6X"
      },
      "source": [
        "\n",
        "\n",
        "\n",
        "from keras.preprocessing.image import ImageDataGenerator\n",
        "\n",
        "train_datagen = ImageDataGenerator(rescale = 1./255,\n",
        "                                   shear_range = 0.2,\n",
        "                                   zoom_range = 0.2,\n",
        "                                   horizontal_flip = True)\n",
        "\n",
        "test_datagen = ImageDataGenerator(rescale = 1./255)\n",
        "\n",
        "\n"
      ],
      "execution_count": null,
      "outputs": []
    },
    {
      "cell_type": "code",
      "metadata": {
        "colab": {
          "base_uri": "https://localhost:8080/"
        },
        "id": "CvHMBVsijEy4",
        "outputId": "6a37fc96-5766-43fc-8f2b-c505bdf1d985"
      },
      "source": [
        "training_set = train_datagen.flow_from_directory('/content/gdrive/MyDrive/chest_xray/train',\n",
        "                                                 target_size = (224, 224),\n",
        "                                                 batch_size = 32,\n",
        "                                                 class_mode = 'categorical')\n",
        "\n",
        "test_set = test_datagen.flow_from_directory('/content/gdrive/MyDrive/chest_xray/test',\n",
        "                                            target_size = (224, 224),\n",
        "                                            batch_size = 32,\n",
        "                                            class_mode = 'categorical')\n"
      ],
      "execution_count": null,
      "outputs": [
        {
          "output_type": "stream",
          "text": [
            "Found 2961 images belonging to 2 classes.\n",
            "Found 624 images belonging to 2 classes.\n"
          ],
          "name": "stdout"
        }
      ]
    },
    {
      "cell_type": "code",
      "metadata": {
        "id": "4Oz-oTzvGPx1"
      },
      "source": [
        "callbacks = [ \n",
        "    EarlyStopping(monitor = 'loss', patience = 7), \n",
        "    ReduceLROnPlateau(monitor = 'loss', patience = 4), \n",
        "    ModelCheckpoint('/content/gdrive/MyDrive/chest_xray/vgg.hdf5', monitor='loss' , save_best_only=True) # saving the best model\n",
        "]"
      ],
      "execution_count": null,
      "outputs": []
    },
    {
      "cell_type": "code",
      "metadata": {
        "id": "A-K2WuZWi5hi"
      },
      "source": [
        "'''r=model.fit_generator(training_set,\n",
        "                         samples_per_epoch = 8000,\n",
        "                         nb_epoch = 5,\n",
        "                         validation_data = test_set,\n",
        "                         nb_val_samples = 2000)'''\n",
        "\n",
        "# fit the model\n",
        "r = model.fit_generator(\n",
        "  training_set,\n",
        "  validation_data=test_set,\n",
        "  epochs=5,\n",
        "  steps_per_epoch=len(training_set),\n",
        "  validation_steps=len(test_set),\n",
        "  callbacks=callbacks\n",
        ")\n"
      ],
      "execution_count": null,
      "outputs": []
    },
    {
      "cell_type": "code",
      "metadata": {
        "id": "D-o6hJFBi7X7"
      },
      "source": [
        "# loss\n",
        "plt.plot(r.history['loss'], label='train loss')\n",
        "plt.plot(r.history['val_loss'], label='val loss')\n",
        "plt.legend()\n",
        "plt.show()\n",
        "plt.savefig('LossVal_loss')\n",
        "\n"
      ],
      "execution_count": null,
      "outputs": []
    },
    {
      "cell_type": "code",
      "metadata": {
        "id": "900bicPhi9U3"
      },
      "source": [
        "# accuracies\n",
        "plt.plot(r.history['accuracy'], label='train acc')\n",
        "plt.plot(r.history['val_accuracy'], label='val acc')\n",
        "plt.legend()\n",
        "plt.show()\n",
        "plt.savefig('AccVal_acc')\n",
        "\n",
        "\n"
      ],
      "execution_count": null,
      "outputs": []
    },
    {
      "cell_type": "code",
      "metadata": {
        "id": "5W_oqpLai_-8"
      },
      "source": [
        "\n",
        "\n",
        "\n",
        "model.save('/content/gdrive/MyDrive/chest_xray/vgg.h5')"
      ],
      "execution_count": null,
      "outputs": []
    },
    {
      "cell_type": "code",
      "metadata": {
        "id": "fueaNE3T21ot"
      },
      "source": [
        "from keras.models import load_model\n",
        "model = load_model('/content/gdrive/MyDrive/chest_xray/vgg.hdf5')"
      ],
      "execution_count": null,
      "outputs": []
    },
    {
      "cell_type": "code",
      "metadata": {
        "id": "jcytkAM5VfEo"
      },
      "source": [
        "def display_random_image(class_names, images, labels):\n",
        "   \n",
        "    \n",
        "    index = np.random.randint(images.shape[0])\n",
        "    plt.figure()\n",
        "    plt.imshow(images[index])\n",
        "    plt.xticks([])\n",
        "    plt.yticks([])\n",
        "    plt.grid(False)\n",
        "    plt.title('Image #{} : '.format(index) + class_names[labels[index]])\n",
        "    plt.show()"
      ],
      "execution_count": null,
      "outputs": []
    },
    {
      "cell_type": "code",
      "metadata": {
        "id": "2Jiv6c9WTwI4"
      },
      "source": [
        "import numpy as np \n",
        "import cv2\n",
        "import os\n",
        "from keras.preprocessing import image\n",
        "test = image.load_img('/content/gdrive/MyDrive/chest_xray/train/PNEUMONIA/person1000_bacteria_2931.jpeg')\n",
        "test = np.asarray(test)\n",
        "test = cv2.resize(test, (224,224))\n",
        "test = test.reshape(1,224,224,3)\n",
        "result = model.predict(test)\n",
        "pred_labels = np.argmax(result, axis = 1)\n",
        "class_names = ['Normal' , 'Pneumonia']\n",
        "display_random_image(class_names, test, pred_labels)"
      ],
      "execution_count": null,
      "outputs": []
    },
    {
      "cell_type": "code",
      "metadata": {
        "id": "wQJqOLOkx7yJ"
      },
      "source": [
        "def read_data(data_paths):\n",
        "    for data_path in data_paths:\n",
        "        labels = ['PNEUMONIA', 'NORMAL']\n",
        "        images = []\n",
        "        y = []\n",
        "        for label in labels:\n",
        "            curr_path = data_path + label\n",
        "            for img in os.listdir(curr_path):\n",
        "                if ('DS' not in img):\n",
        "                    image_path = os.path.join(curr_path, img)\n",
        "                    image =  cv2.resize(cv2.imread(image_path), (224,224))\n",
        "                    if image is not None:\n",
        "                        images.append([image, label])\n",
        "                \n",
        "    images = np.asarray(images)\n",
        "    return images"
      ],
      "execution_count": null,
      "outputs": []
    },
    {
      "cell_type": "code",
      "metadata": {
        "id": "DLbpVw0Dx9PK"
      },
      "source": [
        "\n",
        "\n",
        "train = read_data([train_path])\n",
        "test = read_data([test_path])\n",
        "\n"
      ],
      "execution_count": null,
      "outputs": []
    },
    {
      "cell_type": "code",
      "metadata": {
        "id": "WUFfw2r9yg86"
      },
      "source": [
        "def lung_condition(label):\n",
        "    if label == 'NORMAL':\n",
        "        return 0\n",
        "    else:\n",
        "        return 1"
      ],
      "execution_count": null,
      "outputs": []
    },
    {
      "cell_type": "code",
      "metadata": {
        "id": "kBPHTa8bw-T3"
      },
      "source": [
        "def splitdata(data):\n",
        "    X = []\n",
        "    y = []\n",
        "    for i, (val, label) in enumerate(data):\n",
        "        X.append(val)\n",
        "        y.append(lung_condition(label))\n",
        "    return np.array(X), np.array(y)"
      ],
      "execution_count": null,
      "outputs": []
    },
    {
      "cell_type": "code",
      "metadata": {
        "id": "Uru44e6exhOo"
      },
      "source": [
        "X_train, y_train = splitdata(training_set)\n",
        "X_test, y_test = splitdata(test_set)"
      ],
      "execution_count": null,
      "outputs": []
    },
    {
      "cell_type": "code",
      "metadata": {
        "id": "Pv-tFuwzT_5X"
      },
      "source": [
        "from sklearn.metrics import confusion_matrix\n",
        "confusion = confusion_matrix(y_test, result)\n",
        "print('Confusion Matrix\\n')\n",
        "print(confusion)"
      ],
      "execution_count": null,
      "outputs": []
    },
    {
      "cell_type": "code",
      "metadata": {
        "id": "0vKuVT1_Zh-l"
      },
      "source": [
        "pip install streamlit"
      ],
      "execution_count": null,
      "outputs": []
    },
    {
      "cell_type": "code",
      "metadata": {
        "colab": {
          "base_uri": "https://localhost:8080/"
        },
        "id": "mIdswtKLjkx7",
        "outputId": "72247974-4e9a-44eb-be16-7c6fddad2c25"
      },
      "source": [
        "from google.colab import drive\n",
        "drive.mount('gdrive')"
      ],
      "execution_count": 3,
      "outputs": [
        {
          "output_type": "stream",
          "text": [
            "Mounted at gdrive\n"
          ],
          "name": "stdout"
        }
      ]
    },
    {
      "cell_type": "code",
      "metadata": {
        "id": "d3swsMo6jDOs"
      },
      "source": [
        "import tensorflow as tf \n",
        "from keras.models import load_model \n",
        "model = load_model('/content/gdrive/MyDrive/chest_xray/vgg.hdf5')"
      ],
      "execution_count": 3,
      "outputs": []
    },
    {
      "cell_type": "code",
      "metadata": {
        "colab": {
          "base_uri": "https://localhost:8080/"
        },
        "id": "B7wTMLntjdo7",
        "outputId": "efbff4f2-a87b-4b92-e77e-22f69ef1dffb"
      },
      "source": [
        "import streamlit as st \n",
        "st.write(\"\"\" \n",
        "               # X-RAY Image Classification \n",
        "\"\"\")\n",
        "\n",
        "st.write(\"This web page is to upload and predict whether the person has pneumonia or not from the patient's chest x-ray image\")\n",
        "\n",
        "file = st.file_uploader(\"Upload a file\", type = [\"jpg\", \"png\"])"
      ],
      "execution_count": 2,
      "outputs": [
        {
          "output_type": "stream",
          "text": [
            "2021-08-16 05:28:02.375 \n",
            "  \u001b[33m\u001b[1mWarning:\u001b[0m to view this Streamlit app on a browser, run it with the following\n",
            "  command:\n",
            "\n",
            "    streamlit run /usr/local/lib/python3.7/dist-packages/ipykernel_launcher.py [ARGUMENTS]\n"
          ],
          "name": "stderr"
        }
      ]
    },
    {
      "cell_type": "code",
      "metadata": {
        "id": "lzJfnpGXzDFR"
      },
      "source": [
        "import cv2 \n",
        "import numpy as np \n",
        "from PIL import Image, ImageOps \n",
        "\n",
        "def import_predict(image_data, model) :\n",
        "  size = (224,224) \n",
        "  image = ImageOps.fit(image_data, size, Image.ANTIALIAS)\n",
        "  image = np.asarray(image)\n",
        "  img = cv2.cvtColor(image, cv2.COLOR_BGR2RGB)\n",
        "  img_resize = (cv2.resize(img, dsize = (224,224), interpolation = cv2.INTER_CUBIC))/255\n",
        "  img_reshape = img_resize.reshape(1,224,224,3)\n",
        "  prediction = model.predict(img_reshape)\n",
        "  return prediction \n",
        "\n",
        "\n",
        "\n",
        "\n"
      ],
      "execution_count": 4,
      "outputs": []
    },
    {
      "cell_type": "code",
      "metadata": {
        "id": "eTWAiosA3pv8"
      },
      "source": [
        "if file is None : \n",
        "  st.text(\"Please upload an image\")\n",
        "\n",
        "else : \n",
        "  image = Image.open(file)\n",
        "  st.image(image, use_column_width = True) \n",
        "  prediction = import_predict(image, model)\n",
        "\n",
        "  if np.argmax(prediction) == 0 : \n",
        "    st.write(\"ITS NORMAL\") \n",
        "  \n",
        "  elif np.argmax(prediction) == 1 : \n",
        "    st.write(\"Patient has Pneumonia\")\n",
        "\n",
        "  st.text(\"Probability (0: Normal, 1:Pneumonia\")\n",
        "  st.write(prediction)\n"
      ],
      "execution_count": 5,
      "outputs": []
    }
  ]
}